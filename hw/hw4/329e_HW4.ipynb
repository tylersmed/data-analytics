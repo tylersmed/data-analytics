{
 "cells": [
  {
   "cell_type": "markdown",
   "metadata": {},
   "source": [
    "# Homework 4\n",
    "\n",
    "## Your Name Here (or your names here if you are pair programming)\n",
    "\n",
    "## Linear Regression with Gradient Descent"
   ]
  },
  {
   "cell_type": "markdown",
   "metadata": {},
   "source": [
    "Your task in this assignment is to implement Multiple Linear Regression. \n",
    "\n",
    "We will use the New York City Taxi trip reports in the Year 2013. \n",
    "The dataset was released under the FOIL (The Freedom of Information Law) and made public by Chris Whong (\\url{https://chriswhong.com/open-data/foil_nyc_taxi/}).\n",
    "\n",
    "\n",
    "\n",
    "# Taxi Data Set\n",
    "The data set itself is a simple text file. Each taxi trip report is a different line in the file. Among other things, each trip report \n",
    "includes the starting point, the drop-off point, corresponding timestamps, and information related to the payment. The data are reported \n",
    "by the time that the trip ended, i.e., upon arriving in the order of the drop-off timestamps. \n",
    "The attributes present on each line of the file are, in order:\n",
    "\n",
    "\n",
    "\n",
    "| index | **Attribute** | **Description** |\n",
    "| --- | --- | --- |\n",
    "| 0 | medallion           |  an md5sum of the identifier of the taxi - vehicle bound (Taxi ID)  | \n",
    "| 1 | hack license       |  an md5sum of the identifier for the taxi license (Driver ID)  |  \n",
    "| 2 | pickup datetime    | time when the passenger(s) were picked up  |  \n",
    "| 3 | dropoff datetime   | time when the passenger(s) were dropped off  | \n",
    "| 4 | trip time in secs | duration of the trip  |  \n",
    "| 5 | trip distance | trip distance in miles  |  \n",
    "| 6 | pickup longitude | longitude coordinate of the pickup location  |  \n",
    "| 7 | pickup latitude | latitude coordinate of the pickup location  |  \n",
    "| 8 | dropoff longitude | longitude coordinate of the drop-off location   |  \n",
    "| 9 | dropoff latitude | latitude coordinate of the drop-off location  | \n",
    "| 10 | payment type | the payment method -credit card or cash  |  \n",
    "| 11 | fare amount | fare amount in dollars  |  \n",
    "| 12 | surcharge | surcharge in dollars  |  \n",
    "| 13 | mta tax | tax in dollars  |  \n",
    "| 14 | tip amount | tip in dollars  |  \n",
    "| 15 | tolls amount | bridge and tunnel tolls in dollars  |  \n",
    "| 16 | total amount | total paid amount in dollars  |  \n",
    "\n",
    "\n",
    "\n",
    "\n",
    "The data files are in comma separated values (CSV) format. Example lines from the file are:\n",
    "\n",
    "07290D3599E7A0D62097A346EFCC1FB5,E7750A37CAB07D0DFF0AF7E3573AC141,\\\\\n",
    "2013-01-01,00:00:00,2013-01-01 00:02:00,120,0.44,-73.956528,40.716976,-73.962440,\\\\\n",
    "40.715008,CSH,3.50,0.50,0.50,0.00,0.00,4.50\n",
    "\n",
    "22D70BF00EEB0ADC83BA8177BB861991,3FF2709163DE7036FCAA4E5A3324E4BF,\\\\\n",
    "2013-01-01,00:02:00,2013-01-01 00:02:00,0,0.00,0.000000,0.000000,0.000000,0.000000,\\\\\n",
    "CSH,27.00,0.00,0.50,0.00,0.00,27.50\n",
    "\n",
    "0EC22AAF491A8BD91F279350C2B010FD,778C92B26AE78A9EBDF96B49C67E4007,\\\\\n",
    "2013-01-01,00:01:00,2013-01-01 00:03:00,120,0.71,-73.973145,40.752827,-73.965897\\\\\n",
    "73.965897,40.760445,CSH,4.00,0.50,0.50,0.00,0.00,5.00\n",
    "\n"
   ]
  },
  {
   "cell_type": "code",
   "execution_count": 1,
   "metadata": {},
   "outputs": [],
   "source": [
    "# Standard Headers\n",
    "# You are welcome to add additional headers here if you wish\n",
    "import pandas as pd\n",
    "import numpy as np\n",
    "import matplotlib.pyplot as plt\n",
    "\n",
    "# Enable inline mode for matplotlib so that Jupyter displays graphs\n",
    "%matplotlib inline"
   ]
  },
  {
   "cell_type": "code",
   "execution_count": 17,
   "metadata": {},
   "outputs": [
    {
     "name": "stdout",
     "output_type": "stream",
     "text": [
      "<class 'pandas.core.frame.DataFrame'>\n",
      "RangeIndex: 50000 entries, 0 to 49999\n",
      "Data columns (total 17 columns):\n",
      " #   Column             Non-Null Count  Dtype  \n",
      "---  ------             --------------  -----  \n",
      " 0   medallion          50000 non-null  object \n",
      " 1   hack_license       50000 non-null  object \n",
      " 2   pickup_datetime    50000 non-null  object \n",
      " 3   dropoff_datetime   50000 non-null  object \n",
      " 4   trip_time_in_secs  50000 non-null  int64  \n",
      " 5   trip_distance      50000 non-null  float64\n",
      " 6   pickup_longitude   50000 non-null  float64\n",
      " 7   pickup_latitude    50000 non-null  float64\n",
      " 8   dropoff_longitude  50000 non-null  float64\n",
      " 9   dropoff_latitude   50000 non-null  float64\n",
      " 10  payment_type       50000 non-null  object \n",
      " 11  fare_amount        50000 non-null  float64\n",
      " 12  surcharge          50000 non-null  float64\n",
      " 13  mta_tax            50000 non-null  float64\n",
      " 14  tip_amount         50000 non-null  float64\n",
      " 15  tolls_amount       50000 non-null  float64\n",
      " 16  total_amount       50000 non-null  float64\n",
      "dtypes: float64(11), int64(1), object(5)\n",
      "memory usage: 6.5+ MB\n"
     ]
    }
   ],
   "source": [
    "col_names = ['medallion', 'hack_license', 'pickup_datetime', 'dropoff_datetime', 'trip_time_in_secs', 'trip_distance', 'pickup_longitude', 'pickup_latitude', 'dropoff_longitude', \n",
    "             'dropoff_latitude', 'payment_type', 'fare_amount', 'surcharge', 'mta_tax', 'tip_amount', 'tolls_amount', 'total_amount']\n",
    "df = pd.read_csv('nyc-taxi-data.csv.bz2', names=col_names, header=None)\n",
    "df.info()"
   ]
  },
  {
   "cell_type": "markdown",
   "metadata": {},
   "source": [
    "## Task - 1\n",
    "The dataset is a real-world dataset and many records are incorrect and wrong. Your task is first to describe at least 4 data clean up tasks and implement them on this data set.\n",
    "\n",
    "For example, you can define to remove lines with the following property, if a taxi trip (one of the data rows) has a travel distance less than 1 mile and total amount of more than 20 dollar, then it is an wrong record. \n",
    "\n",
    "Another example is that you would expect to have a float number (e.g., index 12 to 16) and then you got a String in that position. You can remove such lines from your data. \n",
    "\n",
    "Perform the following cleanup tasks:\n",
    "1. Add column headers based on the description above (no need to describe).\n",
    "2. Drop rows with a travel distance < 1 mile and a total fare > $20 (no need to describe). Both conditions need to be met.\n",
    "3. Your own task (please describe your task in a comment/cell).\n",
    "4. Your own task (please describe your task in a comment/cell).\n",
    "\n",
    "**(4 points)**"
   ]
  },
  {
   "cell_type": "code",
   "execution_count": 36,
   "metadata": {},
   "outputs": [
    {
     "data": {
      "text/plain": [
       "(50000, 17)"
      ]
     },
     "execution_count": 36,
     "metadata": {},
     "output_type": "execute_result"
    }
   ],
   "source": [
    "col_names = ['medallion', 'hack_license', 'pickup_datetime', 'dropoff_datetime', 'trip_time_in_secs', 'trip_distance', 'pickup_longitude', 'pickup_latitude', 'dropoff_longitude', \n",
    "             'dropoff_latitude', 'payment_type', 'fare_amount', 'surcharge', 'mta_tax', 'tip_amount', 'tolls_amount', 'total_amount']\n",
    "df = pd.read_csv('nyc-taxi-data.csv.bz2', names=col_names, header=None)\n",
    "df.shape"
   ]
  },
  {
   "cell_type": "code",
   "execution_count": 35,
   "metadata": {},
   "outputs": [
    {
     "data": {
      "text/plain": [
       "(49757, 17)"
      ]
     },
     "execution_count": 35,
     "metadata": {},
     "output_type": "execute_result"
    }
   ],
   "source": [
    "# drop rows where distance < 1 mile and fare > $20\n",
    "cln_df1 = df.drop(df[(df['fare_amount']>20) & (df['trip_distance']<1)].index)\n",
    "cln_df1.shape"
   ]
  },
  {
   "cell_type": "code",
   "execution_count": 5,
   "metadata": {},
   "outputs": [],
   "source": [
    "# Your code here"
   ]
  },
  {
   "cell_type": "code",
   "execution_count": 6,
   "metadata": {},
   "outputs": [],
   "source": [
    "# Your code here"
   ]
  },
  {
   "cell_type": "markdown",
   "metadata": {},
   "source": [
    "## Task - 2\n",
    "Use the cleaned dataset from task 1.\n",
    "Find out the correlations between trip distance, travel time and fare amount. Visualize the correlations in form of Scatterplot matrix. \n",
    "Describe the correlations between them. **(4 points)**"
   ]
  },
  {
   "cell_type": "code",
   "execution_count": 7,
   "metadata": {},
   "outputs": [],
   "source": [
    "# Your code here"
   ]
  },
  {
   "cell_type": "markdown",
   "metadata": {},
   "source": [
    "## Task - 3\n",
    "Use the cleaned dataset from task 1.\n",
    "We want to find a simple line to our data (distance, money). \n",
    "We want to use trip distance, and fare amount. Use the **Scikit-learn** library to fit a line into the data. **(2 points)**\n",
    "\n",
    "* Provide the Regression Cofficients of your model\n",
    "* Write down your linear regression equation. \n",
    "* Use your model to predict the fare amount for a 3 miles trip. \n",
    "\n",
    "A visualization of the model is not required, but it would be nice to have and good practice."
   ]
  },
  {
   "cell_type": "code",
   "execution_count": 8,
   "metadata": {},
   "outputs": [],
   "source": [
    "# Your code here"
   ]
  },
  {
   "cell_type": "markdown",
   "metadata": {},
   "source": [
    "## Task - 4\n",
    "Fit a Multiple Linear Regression hyperplane into this data. We are interested to predict total amount out of trip distance, tavel time. **(4 points)**\n",
    "Use the **Scikit-learn** library.\n",
    "\n",
    "* Provide the Regression Cofficients of your model\n",
    "* Write down your Multiple Linear Regression equation. \n",
    "* Use your model to predict the total amount for a 3 miles trip and 6 min travel time. \n",
    "\n",
    "A visualization of the model is not required, but it would be nice to have and good practice."
   ]
  },
  {
   "cell_type": "code",
   "execution_count": 9,
   "metadata": {},
   "outputs": [],
   "source": [
    "# Your code here"
   ]
  },
  {
   "cell_type": "markdown",
   "metadata": {},
   "source": [
    "## Task - 5 - Gradient Descent\n",
    "Implement the gradient descent optimization to find the optimal parameters for our Simple Linear Regression model of task 3. **(6 points)**\n",
    "\n",
    "* Define and set your learning rate (start with a very small number and increase it if your GC works)\n",
    "* Instantiate all coefficients from zero\n",
    "* Run maximum 400 interations. You can stop if your cost converge with a precision of 0.01 \n",
    "* Print and visualize the optimization costs\n",
    "* Provide the Regression Coefficients of your model after stop or convergance. \n",
    "\n",
    "Please note that a visualization **is** required, unlike in Task 3 and 4."
   ]
  },
  {
   "cell_type": "code",
   "execution_count": 10,
   "metadata": {},
   "outputs": [],
   "source": [
    "# Your code here"
   ]
  }
 ],
 "metadata": {
  "kernelspec": {
   "display_name": "Python 3 (ipykernel)",
   "language": "python",
   "name": "python3"
  },
  "language_info": {
   "codemirror_mode": {
    "name": "ipython",
    "version": 3
   },
   "file_extension": ".py",
   "mimetype": "text/x-python",
   "name": "python",
   "nbconvert_exporter": "python",
   "pygments_lexer": "ipython3",
   "version": "3.9.7"
  }
 },
 "nbformat": 4,
 "nbformat_minor": 4
}
