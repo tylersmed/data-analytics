{
 "cells": [
  {
   "cell_type": "markdown",
   "id": "62edc4b4",
   "metadata": {},
   "source": [
    "# Add YOUR Names and IDs \n",
    "\n",
    "\n",
    "# Name: \n",
    "# ID: \n",
    "\n",
    "# Name: \n",
    "# ID: \n"
   ]
  },
  {
   "cell_type": "markdown",
   "id": "0b6f5998-5208-4d6d-8a60-b7671c810073",
   "metadata": {},
   "source": [
    "# In-Class Activity\n",
    "\n",
    "\n",
    "https://www.kaggle.com/datasets/bhavikjikadara/loan-status-prediction\n",
    "\n",
    " ## About Dataset\n",
    "In this Loan Status Prediction dataset, we have the data of applicants who previously applied for the loan based on the property \n",
    "which is a Property Loan.\n",
    "The bank will decide whether to give a loan to the applicant based on some factors such as Applicant Income, Loan Amount, previous \n",
    "Credit History, Co-applicant Income, etc…\n",
    "Our goal is to build a Machine Learning Model to predict the loan to be approved or to be rejected for an applicant.\n",
    "About the loan_data.csv file:\n",
    "\n",
    " * Loan_ID: A unique loan ID.\n",
    " * Gender: Either male or female.\n",
    " * Married: Weather Married(yes) or Not Marttied(No).\n",
    " * Dependents: Number of persons depending on the client.\n",
    " * Education: Applicant Education(Graduate or Undergraduate).\n",
    " * Self_Employed: Self-employed (Yes/No).\n",
    " * ApplicantIncome: Applicant income.\n",
    " * CoapplicantIncome: Co-applicant income.\n",
    " * LoanAmount: Loan amount in thousands.\n",
    " * Loan_Amount_Term: Terms of the loan in months.\n",
    " * Credit_History: Credit history meets guidelines.\n",
    " * Property_Area: Applicants are living either Urban, Semi-Urban or Rural.\n",
    " * Loan_Status: Loan approved (Y/N).\n",
    "\n",
    "#  Goal:\n",
    "In this project, we are going to classify an individual whether he/she can get the loan amount based on his/her Income, Education, \n",
    "Working Experience, Loan taken previously, and many more factors.\n",
    "Let’s get more into it by looking at the data.\n",
    "\n",
    "\n"
   ]
  },
  {
   "cell_type": "code",
   "execution_count": 1,
   "id": "a448de3b-76ad-43c4-8099-572de2e8c907",
   "metadata": {},
   "outputs": [],
   "source": [
    "import numpy as np\n",
    "import pandas as pd\n",
    "\n",
    "import sklearn\n",
    "# sklearn.show_versions()\n",
    "\n",
    "from matplotlib import pyplot\n",
    "import matplotlib.pyplot as plt\n",
    "\n",
    "from sklearn.model_selection import train_test_split\n",
    "from sklearn.preprocessing import LabelEncoder\n",
    "\n",
    "from sklearn.metrics import accuracy_score, confusion_matrix, classification_report\n",
    "\n",
    "\n",
    "from sklearn.linear_model import LogisticRegression\n",
    "from sklearn.naive_bayes import GaussianNB\n",
    "\n",
    "\n",
    "from sklearn.gaussian_process.kernels import RBF\n",
    "\n",
    "from sklearn.model_selection import train_test_split\n",
    "\n",
    "from sklearn.naive_bayes import GaussianNB\n",
    "from sklearn.neighbors import KNeighborsClassifier\n",
    "\n",
    "from sklearn.preprocessing import StandardScaler\n",
    "\n",
    "from sklearn.svm import SVC\n",
    "from sklearn.tree import DecisionTreeClassifier"
   ]
  },
  {
   "cell_type": "code",
   "execution_count": 4,
   "id": "0fc47389",
   "metadata": {},
   "outputs": [],
   "source": [
    "# Update your \n",
    "# ! pip install threadpoolctl==3.3.0"
   ]
  },
  {
   "cell_type": "markdown",
   "id": "ac7aab1d-016d-4bf5-b40b-dd7f22706944",
   "metadata": {},
   "source": [
    "# Load the dataset"
   ]
  },
  {
   "cell_type": "code",
   "execution_count": 2,
   "id": "0a3cb725-8e98-423a-9aa1-adf19789a568",
   "metadata": {},
   "outputs": [
    {
     "data": {
      "text/html": [
       "<div>\n",
       "<style scoped>\n",
       "    .dataframe tbody tr th:only-of-type {\n",
       "        vertical-align: middle;\n",
       "    }\n",
       "\n",
       "    .dataframe tbody tr th {\n",
       "        vertical-align: top;\n",
       "    }\n",
       "\n",
       "    .dataframe thead th {\n",
       "        text-align: right;\n",
       "    }\n",
       "</style>\n",
       "<table border=\"1\" class=\"dataframe\">\n",
       "  <thead>\n",
       "    <tr style=\"text-align: right;\">\n",
       "      <th></th>\n",
       "      <th>Loan_ID</th>\n",
       "      <th>Gender</th>\n",
       "      <th>Married</th>\n",
       "      <th>Dependents</th>\n",
       "      <th>Education</th>\n",
       "      <th>Self_Employed</th>\n",
       "      <th>ApplicantIncome</th>\n",
       "      <th>CoapplicantIncome</th>\n",
       "      <th>LoanAmount</th>\n",
       "      <th>Loan_Amount_Term</th>\n",
       "      <th>Credit_History</th>\n",
       "      <th>Property_Area</th>\n",
       "      <th>Loan_Status</th>\n",
       "    </tr>\n",
       "  </thead>\n",
       "  <tbody>\n",
       "    <tr>\n",
       "      <th>0</th>\n",
       "      <td>LP001003</td>\n",
       "      <td>Male</td>\n",
       "      <td>Yes</td>\n",
       "      <td>1</td>\n",
       "      <td>Graduate</td>\n",
       "      <td>No</td>\n",
       "      <td>4583</td>\n",
       "      <td>1508.0</td>\n",
       "      <td>128.0</td>\n",
       "      <td>360.0</td>\n",
       "      <td>1.0</td>\n",
       "      <td>Rural</td>\n",
       "      <td>N</td>\n",
       "    </tr>\n",
       "    <tr>\n",
       "      <th>1</th>\n",
       "      <td>LP001005</td>\n",
       "      <td>Male</td>\n",
       "      <td>Yes</td>\n",
       "      <td>0</td>\n",
       "      <td>Graduate</td>\n",
       "      <td>Yes</td>\n",
       "      <td>3000</td>\n",
       "      <td>0.0</td>\n",
       "      <td>66.0</td>\n",
       "      <td>360.0</td>\n",
       "      <td>1.0</td>\n",
       "      <td>Urban</td>\n",
       "      <td>Y</td>\n",
       "    </tr>\n",
       "    <tr>\n",
       "      <th>2</th>\n",
       "      <td>LP001006</td>\n",
       "      <td>Male</td>\n",
       "      <td>Yes</td>\n",
       "      <td>0</td>\n",
       "      <td>Not Graduate</td>\n",
       "      <td>No</td>\n",
       "      <td>2583</td>\n",
       "      <td>2358.0</td>\n",
       "      <td>120.0</td>\n",
       "      <td>360.0</td>\n",
       "      <td>1.0</td>\n",
       "      <td>Urban</td>\n",
       "      <td>Y</td>\n",
       "    </tr>\n",
       "    <tr>\n",
       "      <th>3</th>\n",
       "      <td>LP001008</td>\n",
       "      <td>Male</td>\n",
       "      <td>No</td>\n",
       "      <td>0</td>\n",
       "      <td>Graduate</td>\n",
       "      <td>No</td>\n",
       "      <td>6000</td>\n",
       "      <td>0.0</td>\n",
       "      <td>141.0</td>\n",
       "      <td>360.0</td>\n",
       "      <td>1.0</td>\n",
       "      <td>Urban</td>\n",
       "      <td>Y</td>\n",
       "    </tr>\n",
       "    <tr>\n",
       "      <th>4</th>\n",
       "      <td>LP001013</td>\n",
       "      <td>Male</td>\n",
       "      <td>Yes</td>\n",
       "      <td>0</td>\n",
       "      <td>Not Graduate</td>\n",
       "      <td>No</td>\n",
       "      <td>2333</td>\n",
       "      <td>1516.0</td>\n",
       "      <td>95.0</td>\n",
       "      <td>360.0</td>\n",
       "      <td>1.0</td>\n",
       "      <td>Urban</td>\n",
       "      <td>Y</td>\n",
       "    </tr>\n",
       "    <tr>\n",
       "      <th>...</th>\n",
       "      <td>...</td>\n",
       "      <td>...</td>\n",
       "      <td>...</td>\n",
       "      <td>...</td>\n",
       "      <td>...</td>\n",
       "      <td>...</td>\n",
       "      <td>...</td>\n",
       "      <td>...</td>\n",
       "      <td>...</td>\n",
       "      <td>...</td>\n",
       "      <td>...</td>\n",
       "      <td>...</td>\n",
       "      <td>...</td>\n",
       "    </tr>\n",
       "    <tr>\n",
       "      <th>376</th>\n",
       "      <td>LP002953</td>\n",
       "      <td>Male</td>\n",
       "      <td>Yes</td>\n",
       "      <td>3+</td>\n",
       "      <td>Graduate</td>\n",
       "      <td>No</td>\n",
       "      <td>5703</td>\n",
       "      <td>0.0</td>\n",
       "      <td>128.0</td>\n",
       "      <td>360.0</td>\n",
       "      <td>1.0</td>\n",
       "      <td>Urban</td>\n",
       "      <td>Y</td>\n",
       "    </tr>\n",
       "    <tr>\n",
       "      <th>377</th>\n",
       "      <td>LP002974</td>\n",
       "      <td>Male</td>\n",
       "      <td>Yes</td>\n",
       "      <td>0</td>\n",
       "      <td>Graduate</td>\n",
       "      <td>No</td>\n",
       "      <td>3232</td>\n",
       "      <td>1950.0</td>\n",
       "      <td>108.0</td>\n",
       "      <td>360.0</td>\n",
       "      <td>1.0</td>\n",
       "      <td>Rural</td>\n",
       "      <td>Y</td>\n",
       "    </tr>\n",
       "    <tr>\n",
       "      <th>378</th>\n",
       "      <td>LP002978</td>\n",
       "      <td>Female</td>\n",
       "      <td>No</td>\n",
       "      <td>0</td>\n",
       "      <td>Graduate</td>\n",
       "      <td>No</td>\n",
       "      <td>2900</td>\n",
       "      <td>0.0</td>\n",
       "      <td>71.0</td>\n",
       "      <td>360.0</td>\n",
       "      <td>1.0</td>\n",
       "      <td>Rural</td>\n",
       "      <td>Y</td>\n",
       "    </tr>\n",
       "    <tr>\n",
       "      <th>379</th>\n",
       "      <td>LP002979</td>\n",
       "      <td>Male</td>\n",
       "      <td>Yes</td>\n",
       "      <td>3+</td>\n",
       "      <td>Graduate</td>\n",
       "      <td>No</td>\n",
       "      <td>4106</td>\n",
       "      <td>0.0</td>\n",
       "      <td>40.0</td>\n",
       "      <td>180.0</td>\n",
       "      <td>1.0</td>\n",
       "      <td>Rural</td>\n",
       "      <td>Y</td>\n",
       "    </tr>\n",
       "    <tr>\n",
       "      <th>380</th>\n",
       "      <td>LP002990</td>\n",
       "      <td>Female</td>\n",
       "      <td>No</td>\n",
       "      <td>0</td>\n",
       "      <td>Graduate</td>\n",
       "      <td>Yes</td>\n",
       "      <td>4583</td>\n",
       "      <td>0.0</td>\n",
       "      <td>133.0</td>\n",
       "      <td>360.0</td>\n",
       "      <td>0.0</td>\n",
       "      <td>Semiurban</td>\n",
       "      <td>N</td>\n",
       "    </tr>\n",
       "  </tbody>\n",
       "</table>\n",
       "<p>381 rows × 13 columns</p>\n",
       "</div>"
      ],
      "text/plain": [
       "      Loan_ID  Gender Married Dependents     Education Self_Employed  \\\n",
       "0    LP001003    Male     Yes          1      Graduate            No   \n",
       "1    LP001005    Male     Yes          0      Graduate           Yes   \n",
       "2    LP001006    Male     Yes          0  Not Graduate            No   \n",
       "3    LP001008    Male      No          0      Graduate            No   \n",
       "4    LP001013    Male     Yes          0  Not Graduate            No   \n",
       "..        ...     ...     ...        ...           ...           ...   \n",
       "376  LP002953    Male     Yes         3+      Graduate            No   \n",
       "377  LP002974    Male     Yes          0      Graduate            No   \n",
       "378  LP002978  Female      No          0      Graduate            No   \n",
       "379  LP002979    Male     Yes         3+      Graduate            No   \n",
       "380  LP002990  Female      No          0      Graduate           Yes   \n",
       "\n",
       "     ApplicantIncome  CoapplicantIncome  LoanAmount  Loan_Amount_Term  \\\n",
       "0               4583             1508.0       128.0             360.0   \n",
       "1               3000                0.0        66.0             360.0   \n",
       "2               2583             2358.0       120.0             360.0   \n",
       "3               6000                0.0       141.0             360.0   \n",
       "4               2333             1516.0        95.0             360.0   \n",
       "..               ...                ...         ...               ...   \n",
       "376             5703                0.0       128.0             360.0   \n",
       "377             3232             1950.0       108.0             360.0   \n",
       "378             2900                0.0        71.0             360.0   \n",
       "379             4106                0.0        40.0             180.0   \n",
       "380             4583                0.0       133.0             360.0   \n",
       "\n",
       "     Credit_History Property_Area Loan_Status  \n",
       "0               1.0         Rural           N  \n",
       "1               1.0         Urban           Y  \n",
       "2               1.0         Urban           Y  \n",
       "3               1.0         Urban           Y  \n",
       "4               1.0         Urban           Y  \n",
       "..              ...           ...         ...  \n",
       "376             1.0         Urban           Y  \n",
       "377             1.0         Rural           Y  \n",
       "378             1.0         Rural           Y  \n",
       "379             1.0         Rural           Y  \n",
       "380             0.0     Semiurban           N  \n",
       "\n",
       "[381 rows x 13 columns]"
      ]
     },
     "execution_count": 2,
     "metadata": {},
     "output_type": "execute_result"
    }
   ],
   "source": [
    "loans = pd.read_csv(\"loan_data.csv\")\n",
    "\n",
    "loans"
   ]
  },
  {
   "cell_type": "markdown",
   "id": "85061132-30ea-453b-84f1-c1d983784a47",
   "metadata": {},
   "source": [
    "# Use Imputation to fill in missing values\n",
    "\n",
    "Target classification label is \"Loan_Status\""
   ]
  },
  {
   "cell_type": "code",
   "execution_count": 3,
   "id": "c3df6912-313e-41f1-91bc-094ebfb5c64c",
   "metadata": {},
   "outputs": [
    {
     "data": {
      "text/plain": [
       "Loan_ID               0\n",
       "Gender                5\n",
       "Married               0\n",
       "Dependents            8\n",
       "Education             0\n",
       "Self_Employed        21\n",
       "ApplicantIncome       0\n",
       "CoapplicantIncome     0\n",
       "LoanAmount            0\n",
       "Loan_Amount_Term     11\n",
       "Credit_History       30\n",
       "Property_Area         0\n",
       "Loan_Status           0\n",
       "dtype: int64"
      ]
     },
     "execution_count": 3,
     "metadata": {},
     "output_type": "execute_result"
    }
   ],
   "source": [
    "# We have so many missing values\n",
    "loans.isnull().sum()"
   ]
  },
  {
   "cell_type": "markdown",
   "id": "f6f58d42",
   "metadata": {},
   "source": [
    "# Task - 1 : \n",
    "* Fill the missing values with the average of it, if it is a quantitivative variable \n",
    "* Fill the missing values of a categorical variable with the category that has the max frequency"
   ]
  },
  {
   "cell_type": "code",
   "execution_count": 4,
   "id": "caf5ae76-d1f3-427b-8c80-a64b849bdf4d",
   "metadata": {},
   "outputs": [],
   "source": [
    "# Add your Solution here \n",
    "\n",
    "# fill the \"Loan_Amount_Term\" with the average of it \n",
    "loan_amount_term_mean = loans[\"Loan_Amount_Term\"].mean(skipna=True)\n",
    "loans[\"Loan_Amount_Term\"].fillna(value=loan_amount_term_mean, inplace=True)\n",
    "\n",
    "\n",
    "# Fill the missing values of a categorical variable with the category that has the median frequency"
   ]
  },
  {
   "cell_type": "code",
   "execution_count": 9,
   "id": "6eaa7558",
   "metadata": {},
   "outputs": [
    {
     "data": {
      "text/plain": [
       "Gender\n",
       "Male      291\n",
       "Female     85\n",
       "Name: count, dtype: int64"
      ]
     },
     "execution_count": 9,
     "metadata": {},
     "output_type": "execute_result"
    }
   ],
   "source": [
    "loans[\"Gender\"].value_counts()"
   ]
  },
  {
   "cell_type": "code",
   "execution_count": 13,
   "id": "3ceb7f18",
   "metadata": {},
   "outputs": [
    {
     "data": {
      "text/plain": [
       "Gender\n",
       "Male      296\n",
       "Female     85\n",
       "Name: count, dtype: int64"
      ]
     },
     "execution_count": 13,
     "metadata": {},
     "output_type": "execute_result"
    }
   ],
   "source": [
    "loans[\"Gender\"].fillna(value=\"Male\", inplace=True)\n",
    "loans[\"Gender\"].value_counts()"
   ]
  },
  {
   "cell_type": "code",
   "execution_count": 10,
   "id": "4ba6cb11",
   "metadata": {},
   "outputs": [
    {
     "data": {
      "text/plain": [
       "Credit_History\n",
       "1.0    294\n",
       "0.0     57\n",
       "Name: count, dtype: int64"
      ]
     },
     "execution_count": 10,
     "metadata": {},
     "output_type": "execute_result"
    }
   ],
   "source": [
    "loans[\"Credit_History\"].value_counts()"
   ]
  },
  {
   "cell_type": "code",
   "execution_count": 11,
   "id": "a9549b2d",
   "metadata": {},
   "outputs": [
    {
     "data": {
      "text/plain": [
       "Self_Employed\n",
       "No     325\n",
       "Yes     35\n",
       "Name: count, dtype: int64"
      ]
     },
     "execution_count": 11,
     "metadata": {},
     "output_type": "execute_result"
    }
   ],
   "source": [
    "loans[\"Self_Employed\"].value_counts()"
   ]
  },
  {
   "cell_type": "code",
   "execution_count": 12,
   "id": "d74403e5",
   "metadata": {},
   "outputs": [
    {
     "data": {
      "text/plain": [
       "Dependents\n",
       "0     234\n",
       "2      59\n",
       "1      52\n",
       "3+     28\n",
       "Name: count, dtype: int64"
      ]
     },
     "execution_count": 12,
     "metadata": {},
     "output_type": "execute_result"
    }
   ],
   "source": [
    "loans[\"Dependents\"].value_counts()"
   ]
  },
  {
   "cell_type": "code",
   "execution_count": 8,
   "id": "944f3fe1",
   "metadata": {},
   "outputs": [],
   "source": [
    "# Add your Solution here \n",
    "# Fill the missing values of a categorical variable with the category that has the median frequency\n",
    "\n",
    "def fill_cat(cat_column):\n",
    "    \"\"\"Define a Function for it here\"\"\"\n",
    "\n",
    "\n",
    "    \n",
    "# Then Call it for different variables. \n",
    "fill_cat(\"Gender\")\n",
    "fill_cat(\"Credit_History\")\n",
    "fill_cat(\"Self_Employed\")\n",
    "fill_cat(\"Dependents\")\n"
   ]
  },
  {
   "cell_type": "code",
   "execution_count": 9,
   "id": "58de12c9-d814-46f3-9789-7668caf81ac1",
   "metadata": {},
   "outputs": [
    {
     "data": {
      "text/plain": [
       "Loan_ID              0\n",
       "Gender               0\n",
       "Married              0\n",
       "Dependents           0\n",
       "Education            0\n",
       "Self_Employed        0\n",
       "ApplicantIncome      0\n",
       "CoapplicantIncome    0\n",
       "LoanAmount           0\n",
       "Loan_Amount_Term     0\n",
       "Credit_History       0\n",
       "Property_Area        0\n",
       "Loan_Status          0\n",
       "dtype: int64"
      ]
     },
     "execution_count": 9,
     "metadata": {},
     "output_type": "execute_result"
    }
   ],
   "source": [
    "# Check again if the \n",
    "loans.isnull().sum()"
   ]
  },
  {
   "cell_type": "markdown",
   "id": "d1b6eca7",
   "metadata": {},
   "source": [
    "# Prepare the dataset for modeling \n",
    "\n",
    "Use one-hot encoding to convert categorical data features\n"
   ]
  },
  {
   "cell_type": "code",
   "execution_count": 10,
   "id": "f24e18a1",
   "metadata": {},
   "outputs": [
    {
     "name": "stdout",
     "output_type": "stream",
     "text": [
      "<class 'pandas.core.frame.DataFrame'>\n",
      "RangeIndex: 381 entries, 0 to 380\n",
      "Data columns (total 13 columns):\n",
      " #   Column             Non-Null Count  Dtype  \n",
      "---  ------             --------------  -----  \n",
      " 0   Loan_ID            381 non-null    object \n",
      " 1   Gender             381 non-null    object \n",
      " 2   Married            381 non-null    object \n",
      " 3   Dependents         381 non-null    object \n",
      " 4   Education          381 non-null    object \n",
      " 5   Self_Employed      381 non-null    object \n",
      " 6   ApplicantIncome    381 non-null    int64  \n",
      " 7   CoapplicantIncome  381 non-null    float64\n",
      " 8   LoanAmount         381 non-null    float64\n",
      " 9   Loan_Amount_Term   381 non-null    float64\n",
      " 10  Credit_History     381 non-null    float64\n",
      " 11  Property_Area      381 non-null    object \n",
      " 12  Loan_Status        381 non-null    object \n",
      "dtypes: float64(4), int64(1), object(8)\n",
      "memory usage: 38.8+ KB\n"
     ]
    }
   ],
   "source": [
    "loans.info()"
   ]
  },
  {
   "cell_type": "code",
   "execution_count": 11,
   "id": "6f4ca3f3",
   "metadata": {},
   "outputs": [
    {
     "name": "stdout",
     "output_type": "stream",
     "text": [
      "Loan_Status\n",
      "1    271\n",
      "0    110\n",
      "Name: count, dtype: int64\n"
     ]
    },
    {
     "data": {
      "text/plain": [
       "array([0, 1, 1, 1, 1, 1, 1, 0, 1, 1, 1, 0, 0, 1, 0, 0, 0, 1, 1, 0, 1, 0,\n",
       "       0, 1, 0, 1, 1, 0, 1, 1, 1, 1, 1, 1, 1, 0, 1, 1, 1, 0, 0, 1, 1, 0,\n",
       "       1, 1, 1, 0, 0, 1, 0, 1, 1, 0, 0, 0, 1, 1, 1, 1, 1, 1, 1, 1, 1, 1,\n",
       "       1, 1, 1, 1, 1, 1, 0, 1, 1, 1, 1, 1, 1, 1, 1, 1, 1, 1, 1, 1, 0, 1,\n",
       "       0, 1, 1, 1, 1, 0, 0, 1, 1, 1, 0, 1, 0, 1, 0, 1, 0, 0, 1, 1, 1, 0,\n",
       "       0, 1, 1, 0, 1, 1, 1, 1, 1, 1, 1, 1, 1, 1, 1, 1, 1, 0, 0, 1, 1, 1,\n",
       "       0, 1, 0, 1, 0, 1, 1, 1, 0, 1, 1, 1, 1, 1, 1, 1, 1, 0, 1, 1, 0, 1,\n",
       "       1, 1, 1, 0, 1, 0, 0, 0, 1, 1, 1, 1, 0, 1, 1, 1, 1, 1, 1, 1, 1, 1,\n",
       "       1, 1, 1, 0, 1, 1, 1, 0, 1, 0, 1, 1, 0, 0, 1, 1, 1, 1, 1, 0, 1, 1,\n",
       "       1, 1, 1, 1, 1, 1, 1, 1, 1, 1, 0, 1, 1, 1, 1, 1, 1, 0, 1, 1, 1, 1,\n",
       "       0, 1, 1, 0, 0, 0, 1, 1, 1, 0, 0, 0, 0, 1, 1, 1, 1, 0, 1, 1, 1, 0,\n",
       "       1, 1, 1, 1, 1, 1, 1, 1, 0, 1, 1, 0, 0, 0, 1, 1, 1, 1, 1, 0, 1, 1,\n",
       "       1, 1, 1, 0, 1, 0, 1, 0, 1, 1, 1, 1, 0, 1, 1, 1, 1, 1, 1, 1, 0, 0,\n",
       "       0, 1, 0, 1, 1, 1, 1, 1, 1, 1, 0, 1, 0, 1, 0, 0, 1, 1, 0, 1, 1, 1,\n",
       "       0, 0, 1, 1, 0, 1, 1, 1, 1, 1, 1, 0, 1, 0, 0, 1, 0, 1, 1, 0, 0, 1,\n",
       "       1, 1, 1, 1, 1, 1, 0, 1, 1, 0, 1, 0, 1, 1, 1, 0, 1, 0, 1, 0, 1, 1,\n",
       "       1, 1, 1, 1, 0, 0, 0, 0, 1, 0, 1, 1, 0, 1, 0, 0, 1, 1, 1, 0, 1, 1,\n",
       "       1, 0, 1, 1, 1, 1, 0])"
      ]
     },
     "execution_count": 11,
     "metadata": {},
     "output_type": "execute_result"
    }
   ],
   "source": [
    "# Lables - Class lables are converted to 0 or 1 instead of N and Y\n",
    "Y = loans[\"Loan_Status\"].map({'N': 0, 'Y': 1})\n",
    "print(Y.value_counts())\n",
    "\n",
    "# Convert the categorical feature into numerical form\n",
    "le = LabelEncoder()\n",
    "y_encoded = le.fit_transform(loans[\"Loan_Status\"])\n",
    "y_encoded"
   ]
  },
  {
   "cell_type": "code",
   "execution_count": 12,
   "id": "2ccd905d",
   "metadata": {},
   "outputs": [],
   "source": [
    "# Drop this lablel columun \n",
    "del loans[\"Loan_Status\"]\n",
    "\n",
    "# ID has no meaning here \n",
    "del loans[\"Loan_ID\"]"
   ]
  },
  {
   "cell_type": "code",
   "execution_count": 13,
   "id": "93ee307f",
   "metadata": {},
   "outputs": [
    {
     "name": "stdout",
     "output_type": "stream",
     "text": [
      " X dataset shape:  (381, 20)\n",
      " Y Labels  shape:  (381,)\n"
     ]
    },
    {
     "data": {
      "text/plain": [
       "array([[4.583e+03, 1.508e+03, 1.280e+02, ..., 1.000e+00, 0.000e+00,\n",
       "        0.000e+00],\n",
       "       [3.000e+03, 0.000e+00, 6.600e+01, ..., 0.000e+00, 0.000e+00,\n",
       "        1.000e+00],\n",
       "       [2.583e+03, 2.358e+03, 1.200e+02, ..., 0.000e+00, 0.000e+00,\n",
       "        1.000e+00],\n",
       "       ...,\n",
       "       [2.900e+03, 0.000e+00, 7.100e+01, ..., 1.000e+00, 0.000e+00,\n",
       "        0.000e+00],\n",
       "       [4.106e+03, 0.000e+00, 4.000e+01, ..., 1.000e+00, 0.000e+00,\n",
       "        0.000e+00],\n",
       "       [4.583e+03, 0.000e+00, 1.330e+02, ..., 0.000e+00, 1.000e+00,\n",
       "        0.000e+00]])"
      ]
     },
     "execution_count": 13,
     "metadata": {},
     "output_type": "execute_result"
    }
   ],
   "source": [
    "from sklearn.preprocessing import OneHotEncoder\n",
    "from sklearn.preprocessing import LabelEncoder\n",
    "from sklearn.compose import ColumnTransformer\n",
    "\n",
    "# Assuming df is your DataFrame with categorical and numerical columns\n",
    "# Assuming cat_columns is a list of your categorical columns\n",
    "# Assuming num_columns is a list of your numerical columns\n",
    "\n",
    "# Initialize encoders for numerical and categorical columns\n",
    "numerical_transformer = 'passthrough'\n",
    "categorical_transformer = OneHotEncoder(handle_unknown='ignore')\n",
    "\n",
    "num_columns = [\"ApplicantIncome\", \"CoapplicantIncome\", \"LoanAmount\", \"Loan_Amount_Term\", \"Credit_History\" ]\n",
    "\n",
    "cat_columns = [\"Gender\", \"Married\", \"Dependents\", \"Education\", \"Self_Employed\", \"Property_Area\"]\n",
    "\n",
    "# Combine encoders into a ColumnTransformer\n",
    "preprocessor = ColumnTransformer(\n",
    "    transformers=[\n",
    "        ('num', numerical_transformer, num_columns),\n",
    "        ('cat', categorical_transformer, cat_columns)\n",
    "    ])\n",
    "\n",
    "# Fit and transform the data\n",
    "encoded_data = preprocessor.fit_transform(loans)\n",
    "print(\" X dataset shape: \", encoded_data.shape)\n",
    "print(\" Y Labels  shape: \", Y.shape)\n",
    "\n",
    "X = encoded_data\n",
    "\n",
    "X"
   ]
  },
  {
   "cell_type": "markdown",
   "id": "acdf10aa",
   "metadata": {},
   "source": [
    "# Task 2: Scale the dataset using MinMaxScaler"
   ]
  },
  {
   "cell_type": "code",
   "execution_count": 14,
   "id": "33d09e80",
   "metadata": {},
   "outputs": [
    {
     "data": {
      "text/plain": [
       "array([[0.46404271, 0.0445666 , 0.84397163, ..., 1.        , 0.        ,\n",
       "        0.        ],\n",
       "       [0.2983356 , 0.        , 0.40425532, ..., 0.        , 0.        ,\n",
       "        1.        ],\n",
       "       [0.25468439, 0.06968703, 0.78723404, ..., 0.        , 0.        ,\n",
       "        1.        ],\n",
       "       ...,\n",
       "       [0.28786769, 0.        , 0.43971631, ..., 1.        , 0.        ,\n",
       "        0.        ],\n",
       "       [0.41411075, 0.        , 0.21985816, ..., 1.        , 0.        ,\n",
       "        0.        ],\n",
       "       [0.46404271, 0.        , 0.87943262, ..., 0.        , 1.        ,\n",
       "        0.        ]])"
      ]
     },
     "execution_count": 14,
     "metadata": {},
     "output_type": "execute_result"
    }
   ],
   "source": [
    "from sklearn.preprocessing import MinMaxScaler\n",
    "\n",
    "# Add your code here ... \n",
    "\n",
    "\n",
    "# transform the data using the fitted scaler\n",
    "scaled_X_array_2d = ... \n",
    "scaled_X_array_2d"
   ]
  },
  {
   "cell_type": "code",
   "execution_count": 15,
   "id": "6f9bf39f-3eba-4798-9a02-c933182d413a",
   "metadata": {},
   "outputs": [],
   "source": [
    "# Create Test/Train\n",
    "from sklearn.model_selection import train_test_split\n",
    "\n",
    "X_train, X_test, y_train, y_test = train_test_split(scaled_X_array_2d, Y, test_size=0.2, random_state=123)\n"
   ]
  },
  {
   "cell_type": "markdown",
   "id": "975629f2-e189-4947-9b8c-1eee17a0cd32",
   "metadata": {},
   "source": [
    "# Task 3: Apply Logistic Regression\n",
    "\n",
    "- Report the Model Accuracy and F1 Score"
   ]
  },
  {
   "cell_type": "code",
   "execution_count": 16,
   "id": "2798ced9-3ed0-462c-9dd7-1e625d11ccea",
   "metadata": {},
   "outputs": [
    {
     "name": "stdout",
     "output_type": "stream",
     "text": [
      "0.8441558441558441\n",
      "              precision    recall  f1-score   support\n",
      "\n",
      "           0       0.88      0.58      0.70        24\n",
      "           1       0.84      0.96      0.89        53\n",
      "\n",
      "    accuracy                           0.84        77\n",
      "   macro avg       0.86      0.77      0.80        77\n",
      "weighted avg       0.85      0.84      0.83        77\n",
      "\n"
     ]
    }
   ],
   "source": [
    "# add your code here \n",
    "model = \n",
    "model.fit(X_train,y_train)\n",
    "\n",
    "\n",
    "#  Classification Report\n"
   ]
  },
  {
   "cell_type": "markdown",
   "id": "d3225161-539b-4fd1-b65c-ff1c3490817f",
   "metadata": {},
   "source": [
    "# Task 4: Apply Support Vector Machine\n",
    "\n",
    "- Report the Model Accuracy and F1 ScoreApply Support Vector Machine \n",
    "- Try using different kernels\n"
   ]
  },
  {
   "cell_type": "code",
   "execution_count": 17,
   "id": "c6be9ec7-6605-4be7-8dd3-d12865fec867",
   "metadata": {},
   "outputs": [
    {
     "name": "stdout",
     "output_type": "stream",
     "text": [
      "0.8441558441558441\n",
      "              precision    recall  f1-score   support\n",
      "\n",
      "           0       0.88      0.58      0.70        24\n",
      "           1       0.84      0.96      0.89        53\n",
      "\n",
      "    accuracy                           0.84        77\n",
      "   macro avg       0.86      0.77      0.80        77\n",
      "weighted avg       0.85      0.84      0.83        77\n",
      "\n"
     ]
    }
   ],
   "source": [
    "# add your code here \n",
    "model = \n",
    "model.fit(X_train,y_train)\n",
    "\n",
    "\n",
    "#  Classification Report\n"
   ]
  },
  {
   "cell_type": "code",
   "execution_count": 18,
   "id": "a5f80e24-b965-4602-8861-1b05dfb375ce",
   "metadata": {},
   "outputs": [
    {
     "name": "stdout",
     "output_type": "stream",
     "text": [
      "0.7532467532467533\n",
      "              precision    recall  f1-score   support\n",
      "\n",
      "           0       0.69      0.38      0.49        24\n",
      "           1       0.77      0.92      0.84        53\n",
      "\n",
      "    accuracy                           0.75        77\n",
      "   macro avg       0.73      0.65      0.66        77\n",
      "weighted avg       0.74      0.75      0.73        77\n",
      "\n"
     ]
    }
   ],
   "source": [
    "# add your code here \n",
    "model = \n",
    "model.fit(X_train,y_train)\n",
    "\n",
    "\n",
    "#  Classification Report\n"
   ]
  },
  {
   "cell_type": "markdown",
   "id": "cc49fa93",
   "metadata": {},
   "source": [
    "# Task 5: Apply kNN\n",
    "\n",
    "- Report the Model Accuracy and F1 ScoreApply Support Vector Machine \n",
    "- try different k = 3, 4, 5 ,6\n",
    "\n"
   ]
  },
  {
   "cell_type": "code",
   "execution_count": 21,
   "id": "cb919111",
   "metadata": {},
   "outputs": [
    {
     "name": "stdout",
     "output_type": "stream",
     "text": [
      "0.8051948051948052\n",
      "              precision    recall  f1-score   support\n",
      "\n",
      "           0       0.71      0.62      0.67        24\n",
      "           1       0.84      0.89      0.86        53\n",
      "\n",
      "    accuracy                           0.81        77\n",
      "   macro avg       0.78      0.76      0.76        77\n",
      "weighted avg       0.80      0.81      0.80        77\n",
      "\n"
     ]
    }
   ],
   "source": [
    "from sklearn.neighbors import KNeighborsClassifier\n",
    "\n",
    "# add your code here \n",
    "model = \n",
    "model.fit(X_train,y_train)\n",
    "\n",
    "\n",
    "#  Classification Report\n"
   ]
  },
  {
   "cell_type": "markdown",
   "id": "eefa68fd",
   "metadata": {},
   "source": [
    "# Task 6: Apply Desision Trees \n",
    "\n",
    "* Try to achview highest acc and F1 score "
   ]
  },
  {
   "cell_type": "code",
   "execution_count": 29,
   "id": "ab5f885a",
   "metadata": {},
   "outputs": [
    {
     "name": "stdout",
     "output_type": "stream",
     "text": [
      "0.6103896103896104\n",
      "              precision    recall  f1-score   support\n",
      "\n",
      "           0       0.44      0.92      0.59        24\n",
      "           1       0.93      0.47      0.62        53\n",
      "\n",
      "    accuracy                           0.61        77\n",
      "   macro avg       0.68      0.69      0.61        77\n",
      "weighted avg       0.77      0.61      0.62        77\n",
      "\n"
     ]
    }
   ],
   "source": [
    "from sklearn import tree\n",
    "# add your code here \n",
    "model = \n",
    "model.fit(X_train,y_train)\n",
    "\n",
    "\n",
    "#  Classification Report\n"
   ]
  },
  {
   "cell_type": "markdown",
   "id": "0fa620ea",
   "metadata": {},
   "source": [
    "# Task 7: Perform Cross Validation with k=5 and calculate the average cross validation score using your Support Vector Machine, and Desision Trees \n",
    "\n",
    "Here is an example code for Logistic Regression"
   ]
  },
  {
   "cell_type": "code",
   "execution_count": 31,
   "id": "b3a013fa",
   "metadata": {},
   "outputs": [
    {
     "name": "stdout",
     "output_type": "stream",
     "text": [
      "Average Cross-Validation Score: 0.8419125683060109\n"
     ]
    }
   ],
   "source": [
    "from sklearn.model_selection import cross_val_score\n",
    "from sklearn.linear_model import LogisticRegression\n",
    "\n",
    "\n",
    "# Create a Logistic Regression model\n",
    "model = LogisticRegression()\n",
    "\n",
    "# Perform 5-fold cross-validation\n",
    "scores = cross_val_score(model, X_train, y_train, cv=5)\n",
    "\n",
    "# Calculate the average cross-validation score\n",
    "average_score = scores.mean()\n",
    "\n",
    "# Print the average cross-validation score\n",
    "print(f\"Average Cross-Validation Score: {average_score}\")"
   ]
  },
  {
   "cell_type": "code",
   "execution_count": null,
   "id": "a04a8dc9",
   "metadata": {},
   "outputs": [],
   "source": [
    "# add your code here "
   ]
  },
  {
   "cell_type": "markdown",
   "id": "37d541e1",
   "metadata": {},
   "source": [
    "# Task 8 - Remove one or more of the data features, and use different models. \n",
    "Check if you can improve the model performance if some of the features are removed. "
   ]
  },
  {
   "cell_type": "code",
   "execution_count": null,
   "id": "c25bee33",
   "metadata": {},
   "outputs": [],
   "source": []
  },
  {
   "cell_type": "code",
   "execution_count": null,
   "id": "f6806a6b",
   "metadata": {},
   "outputs": [],
   "source": []
  }
 ],
 "metadata": {
  "kernelspec": {
   "display_name": "Python 3 (ipykernel)",
   "language": "python",
   "name": "python3"
  },
  "language_info": {
   "codemirror_mode": {
    "name": "ipython",
    "version": 3
   },
   "file_extension": ".py",
   "mimetype": "text/x-python",
   "name": "python",
   "nbconvert_exporter": "python",
   "pygments_lexer": "ipython3",
   "version": "3.9.13"
  }
 },
 "nbformat": 4,
 "nbformat_minor": 5
}
